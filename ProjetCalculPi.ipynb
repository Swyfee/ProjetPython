{
 "cells": [
  {
   "cell_type": "markdown",
   "metadata": {},
   "source": [
    "**Approximation du nombre $\\pi$**\n",
    "==================\n",
    "\n",
    "Le nombre $\\pi$ est un nombre qui a toujours fasciné les mathématiciens,\n",
    "notamment sa suite infine de décimales. C'est une des constantes les\n",
    "plus importantes en mathématiques, que l'on retrouve dans différentes\n",
    "formules qui régissent les lois de l'univers, en géométrie,\n",
    "probabilités, trigonométrie, intégration, physique, ingénierie, et bien\n",
    "sûr en informatique. Disposer d'une approximation numérique de ce nombre\n",
    "devient alors une nécessité pour les scientifiques, ingénieurs,\n",
    "enseignants et étudiants. Comme vu en cours et TD, certains nombres\n",
    "réels ne sont pas calculables par une Machine de Turing. Malheureusement,\n",
    "c'est le cas pour le nombre $\\pi$.\n",
    "\n",
    "\n",
    "Le but ce projet est de présenter quelques méthodes, basées sur\n",
    "deux principes mathématiques différents, pour calculer une approximation\n",
    "du nombre $\\pi$. Certaines méthodes peuvent être plus ou moins efficaces\n",
    "(convergence, précision) en fonction du nombre d'itérations, et il\n",
    "pourrait être intéressant de pouvoir étudier ces différences."
   ]
  },
  {
   "attachments": {
    "image_pi.png": {
     "image/png": "[encoded data removed]"
    }
   },
   "cell_type": "markdown",
   "metadata": {},
   "source": [
    "Méthode des séries\n",
    "==================\n",
    "\n",
    "Somme des inverses des carrés\n",
    "-----------------------------\n",
    "\n",
    "Dans cette sous-section on s'intéresse à la convergence de la série\n",
    "$\\sum \\frac{1}{n^2}$, et on se propose de (re)démontrer que cette série\n",
    "converge vers $\\frac{\\pi^2}{6}$. Pour ce faire, on utilise le\n",
    "développement en série de Fourier d'une fonction $f$ définie par le\n",
    "graphique suivant :\n",
    "![image_pi.png](attachment:image_pi.png)"
   ]
  },
  {
   "cell_type": "markdown",
   "metadata": {},
   "source": [
    "La fonction $f$ est 2$\\pi$-périodique, valant 1 sur l'intervalle\n",
    "$]0,\\pi[$, $-1$ sur l'intervalle $]-\\pi,0[$, et vérifiant\n",
    "$f(-\\pi)=f(0)=f(\\pi)=0$. Le développement en série de Fourier $S_N(f)$\n",
    "de la fonction $f$ est défini (dans sa variante réelle) par :\n",
    "\n",
    "$$S_N(f) = a_0 + \\sum_{n=1}^{N} a_n \\cos(nt) + \\sum_{n=1}^{N} b_n \\sin(nt)$$\n",
    "\n",
    "avec $\\forall n \\in \\mathbb{N}^*$\n",
    "\n",
    "$$a_0 = \\frac{1}{2\\pi} \\int_{0}^{2\\pi} f(t) dt$$\n",
    "$$a_n = \\frac{2}{2\\pi} \\int_{0}^{2\\pi} f(t) \\cos(nt) dt$$\n",
    "$$b_n  = \\frac{2}{2\\pi} \\int_{0}^{2\\pi} f(t) \\sin(nt) dt$$\n",
    "\n",
    "1.  Montrer que $a_0 = 0$, et que $\\forall n \\geqslant 1$, $a_n=0$ et\n",
    "    $b_n = \\dfrac{4}{2\\pi} \\left( \\dfrac{1 - \\cos(n\\pi)}{n} \\right)$"
   ]
  },
  {
   "cell_type": "markdown",
   "metadata": {},
   "source": [
    "* D'abord pour montrer que Montrer que $a_0 = 0$:\n",
    "\n",
    "    $$a_0 = \\frac{1}{2\\pi} \\int_{0}^{2\\pi} f(t) dt$$\n",
    "    $$a_0 = \\frac{1}{2\\pi}( \\int_{0}^{\\pi} f(t) dt + \\int_{\\pi}^{2\\pi} f(t) dt)$$\n",
    "    $$a_0 = \\frac{1}{2\\pi}( \\int_{0}^{\\pi} dt - \\int_{\\pi}^{2\\pi} dt)$$\n",
    "    $$a_0 = \\frac{1}{2\\pi}( [t]_{0}^{\\pi} - [t]_{\\pi}^{2\\pi})$$\n",
    "    $$a_0 = \\frac{1}{2\\pi}( \\pi- 0 - 2\\pi + \\pi)$$\n",
    "    $$a_0 = 0$$\n",
    "    \n",
    "* D'abord pour montrer que Montrer que $a_n = 0$:\n",
    "\n",
    "    $$a_n = \\frac{2}{2\\pi} \\int_{0}^{2n} f(t) cos(nt) dt$$\n",
    "    $$a_n = \\frac{2}{2\\pi}( \\int_{0}^{\\pi} cos(nt) dt - \\int_{\\pi}^{2\\pi} cos(nt) dt)$$\n",
    "    $$a_n = \\frac{2}{2\\pi}( [\\frac{1}{n} sin(nt) dt]_{0}^{\\pi} - [\\frac{1}{n} sin(nt) dt]_{\\pi}^{2\\pi})$$\n",
    "    $$a_n = \\frac{2}{2\\pi}( \\frac{sin(n\\pi)}{n}-\\frac{sin(n\\pi)}{n})$$\n",
    "    $$a_n = 0$$\n",
    "    \n",
    " * D'abord pour montrer que Montrer que $b_n = \\dfrac{4}{2\\pi} \\left( \\dfrac{1 - \\cos(n\\pi)}{n} \\right)$:   \n",
    "    $$b_n  = \\frac{2}{2\\pi} \\int_{0}^{2\\pi} f(t) \\sin(nt) dt$$\n",
    "    $$b_n  = (\\frac{2}{2\\pi} \\int_{0}^{\\pi} f(t) \\sin(nt) dt)$$"
   ]
  },
  {
   "cell_type": "markdown",
   "metadata": {},
   "source": []
  },
  {
   "cell_type": "markdown",
   "metadata": {},
   "source": [
    "2.  En étudiant la parité de $n$, en déduire que pour tout entier\n",
    "    naturel $p$, $b_{2p} = 0$ et $b_{2p+1} = \\dfrac{4}{(2p+1)\\pi}$"
   ]
  },
  {
   "cell_type": "markdown",
   "metadata": {},
   "source": []
  },
  {
   "cell_type": "markdown",
   "metadata": {},
   "source": [
    "3.  On rappelle le Théorème de Parseval :\n",
    "\n",
    "    Soit $f$ une fonction continue par morceau, et 2$\\pi$-périodique.\n",
    "    Alors on a l'égalité suivante :\n",
    "    $$\\frac{1}{2\\pi} \\int_{0}^{2\\pi}|f(t)|^2dt=  |a_0|^2 + \\frac{1}{2} \\left( \\sum_{n=1}^{+\\infty}|a_n|^2 + |b_n|^2 \\right)$$\n",
    "    vec $a_n$ et $b_n$ désignant les coefficients de Fourier réels de\n",
    "    $f$.\n",
    "\n",
    "    En appliquant le théorème de Parseval à la fonction $f$,\n",
    "    montrer que $$\\label{serie2}\n",
    "    \\sum_{p=0}^{+\\infty} \\dfrac{1}{(2p+1)^2} = \\dfrac{\\pi^2}{8}$$\n",
    "    Cette série sera appelée la *série impaire*."
   ]
  },
  {
   "cell_type": "markdown",
   "metadata": {},
   "source": []
  },
  {
   "cell_type": "markdown",
   "metadata": {},
   "source": [
    "4.  En remarquant que\n",
    "    $$\\sum_{n=1}^{2N} \\frac{1}{n^2} = \\sum_{p=1}^{N} \\frac{1}{(2p)^2} + \\sum_{p=0}^{N-1} \\frac{1}{(2p+1)^2}$$\n",
    "\n",
    "    , en simplifiant l'expression puis en passant à la limite en\n",
    "    l'infini, montrer que :\n",
    "\n",
    "    $$\\sum_{n=1}^{+\\infty} \\frac{1}{n^2} = \\frac{1}{4} \\sum_{n=1}^{+\\infty} \\frac{1}{n^2} + \\frac{\\pi^2}{8}$$"
   ]
  },
  {
   "cell_type": "markdown",
   "metadata": {},
   "source": [
    "$$<=> \\sum_{n=1}^{2N} \\frac{1}{n^2} = \\sum_{p=1}^{N} \\frac{1}{(2p)^2} + \\frac{\\pi^2}{8}$$\n",
    "$$<=> \\sum_{n=1}^{+\\infty} \\frac{1}{n^2} = \\sum_{p=1}^{+\\infty} \\frac{1}{(2p)^2} + \\frac{\\pi^2}{8}$$\n",
    "$$<=> \\sum_{n=1}^{+\\infty} \\frac{1}{n^2} = \\sum_{p=1}^{+\\infty} \\frac{1}{4p^2} + \\frac{\\pi^2}{8}$$\n",
    "$$<=> \\sum_{n=1}^{+\\infty} \\frac{1}{n^2} = \\frac{1}{4} \\sum_{n=1}^{+\\infty} \\frac{1}{n^2} + \\frac{\\pi^2}{8}$$"
   ]
  },
  {
   "cell_type": "markdown",
   "metadata": {},
   "source": [
    "5.  Finalement, en déduirela valeur de la *série paire*\n",
    "\n",
    "    $$\\label{serie1}\n",
    "     \\sum_{n=1}^{+\\infty} \\frac{1}{n^2}$$"
   ]
  },
  {
   "cell_type": "markdown",
   "metadata": {},
   "source": [
    "$$ \\sum_{n=1}^{+\\infty} \\frac{1}{n^2} = \\frac{1}{4} \\sum_{n=1}^{+\\infty} \\frac{1}{n^2} + \\frac{\\pi^2}{8}$$\n",
    "$$<=> \\frac{3}{4} \\sum_{n=1}^{+\\infty} \\frac{1}{n^2} = \\frac{\\pi^2}{8} $$\n",
    "$$<=> \\sum_{n=1}^{+\\infty} \\frac{1}{n^2} = \\frac{\\pi^2}{6} $$"
   ]
  },
  {
   "cell_type": "markdown",
   "metadata": {},
   "source": [
    "Implémentations\n",
    "---------------\n",
    "\n",
    "1.  Implémenter une fonction *SerieInvCarres(N)* renvoyant calculant les\n",
    "    $N$ premiers termes de la somme $$\\sum_{n=1}^{N} \\frac{1}{n^2}$$"
   ]
  },
  {
   "cell_type": "code",
   "execution_count": 2,
   "metadata": {},
   "outputs": [],
   "source": [
    "import math\n",
    "import matplotlib as mpl\n",
    "import matplotlib.pyplot as plt\n",
    "import random"
   ]
  },
  {
   "cell_type": "code",
   "execution_count": 3,
   "metadata": {},
   "outputs": [
    {
     "name": "stdout",
     "output_type": "stream",
     "text": [
      "1.6416062828976226\n"
     ]
    }
   ],
   "source": [
    "def SerieInvCarres(N):\n",
    "    sum = 0\n",
    "    for n in range(1,N+1):\n",
    "        sum = sum+1/(n*n)\n",
    "    print(sum)\n",
    "SerieInvCarres(300)"
   ]
  },
  {
   "cell_type": "markdown",
   "metadata": {},
   "source": [
    "2.  En utilisant l'équation *série paire*, implémenter une fonction\n",
    "    *MethodeSerieInvCarres(N)* renvoyant une approximation du nombre\n",
    "    $\\pi$."
   ]
  },
  {
   "cell_type": "code",
   "execution_count": 4,
   "metadata": {},
   "outputs": [
    {
     "data": {
      "text/plain": [
       "3.141353941945064"
      ]
     },
     "execution_count": 4,
     "metadata": {},
     "output_type": "execute_result"
    }
   ],
   "source": [
    "def MethodeSerieInvCarresPair(N):\n",
    "    appr_pi = 0\n",
    "    for n in range(1,N+1):\n",
    "        appr_pi = appr_pi+1/(n*n)\n",
    "    return math.sqrt(appr_pi*6)\n",
    "MethodeSerieInvCarresPair(4000)"
   ]
  },
  {
   "cell_type": "markdown",
   "metadata": {},
   "source": [
    "3.  Implémenter une fonction *SerieInvCarresImparis(N)* renvoyant\n",
    "    calculant les $N$ premiers termes de la somme\n",
    "    $$\\sum_{n=0}^{N} \\frac{1}{(2n+1)^2}$$"
   ]
  },
  {
   "cell_type": "code",
   "execution_count": 5,
   "metadata": {},
   "outputs": [
    {
     "name": "stdout",
     "output_type": "stream",
     "text": [
      "1.2336380501364983\n"
     ]
    }
   ],
   "source": [
    "def SerieInvCarresImpair(N):\n",
    "    sum_imp = 0.0\n",
    "    for n in range(0,N):\n",
    "        sum_imp = sum_imp+(1/math.pow((2*n+1),2))\n",
    "    print(sum_imp)\n",
    "SerieInvCarresImpair(4000)"
   ]
  },
  {
   "cell_type": "markdown",
   "metadata": {},
   "source": [
    "4.  En utilisant l'équation *série impaire*, implémenter une fonction\n",
    "    *MethodeSerieInvCarresImparis(N)* renvoyant une approximation du\n",
    "    nombre $\\pi$."
   ]
  },
  {
   "cell_type": "code",
   "execution_count": 6,
   "metadata": {},
   "outputs": [
    {
     "data": {
      "text/plain": [
       "3.1414865485035737"
      ]
     },
     "execution_count": 6,
     "metadata": {},
     "output_type": "execute_result"
    }
   ],
   "source": [
    "def MethodeSerieInvCarresImpair(N):\n",
    "    appr_pi = 0.0\n",
    "    for n in range(0,N):\n",
    "        appr_pi = appr_pi+(1/math.pow((2*n+1),2))\n",
    "    return math.sqrt(appr_pi*8)\n",
    "MethodeSerieInvCarresImpair(3000)"
   ]
  },
  {
   "cell_type": "markdown",
   "metadata": {},
   "source": [
    "5.  Pour chacune des deux méthodes ci-dessus, tracer la courbe\n",
    "    représentant l'évolution de $|MethodeSerieXXX(N) - \\pi|$ en fonction\n",
    "    de $N$"
   ]
  },
  {
   "cell_type": "code",
   "execution_count": 7,
   "metadata": {},
   "outputs": [
    {
     "data": {
      "image/png": "[encoded data removed]",
      "text/plain": [
       "<Figure size 1440x864 with 1 Axes>"
      ]
     },
     "metadata": {
      "needs_background": "light"
     },
     "output_type": "display_data"
    }
   ],
   "source": [
    "def buildPlot(n):\n",
    "    pointPlotPair = []\n",
    "    pintPlotImp = []\n",
    "    last = 0.0\n",
    "    fig = plt.figure(figsize=(20, 12))\n",
    "    ax = fig.add_subplot(111)\n",
    "    for n in range(0,n):\n",
    "        last = MethodeSerieInvCarresPair(n)-math.pi\n",
    "        pointPlotPair.append(last)\n",
    "        last = MethodeSerieInvCarresImpair(n)-math.pi\n",
    "        pintPlotImp.append(last)\n",
    "    ax.plot(pointPlotPair)\n",
    "    ax.plot(pintPlotImp)\n",
    "    fig.savefig('graph.png')\n",
    "buildPlot(200)"
   ]
  },
  {
   "cell_type": "markdown",
   "metadata": {},
   "source": [
    "6.  Pour chacune des deux méthodes ci-dessus, combien faut-il de termes\n",
    "    $N$ dans la somme pour obtenir une approximation de $\\pi$ avec une\n",
    "    précision de l'ordre de $10^{-4}$ ?"
   ]
  },
  {
   "cell_type": "code",
   "execution_count": 8,
   "metadata": {},
   "outputs": [
    {
     "name": "stdout",
     "output_type": "stream",
     "text": [
      "3.1415000080658166 3.1415000125603303\n",
      "10307 3436\n"
     ]
    }
   ],
   "source": [
    "def approx():\n",
    "    result = 1\n",
    "    result2 = 1\n",
    "    counter = -1\n",
    "    counter2 = -1\n",
    "    while result <= math.trunc(math.pi*10**4)*10**-4:\n",
    "        counter = counter+1\n",
    "        result = MethodeSerieInvCarresPair(counter)\n",
    "    while result2 <= math.trunc(math.pi*10**4)*10**-4:\n",
    "        counter2 = counter2+1\n",
    "        result2 = MethodeSerieInvCarresImpair(counter2)\n",
    "    print(result,result2)\n",
    "    print(counter,counter2)\n",
    "approx()"
   ]
  },
  {
   "cell_type": "markdown",
   "metadata": {},
   "source": [
    "7.  Le célèbre mathématicien Ramanujan proposa, de manière\n",
    "    quasi-magique, un certain nombre de formules permettant d'approximer\n",
    "    le nombre $\\pi$. Une des formules proposées peut s'énoncer comme\n",
    "    suit :\n",
    "    $${\\frac {1}{\\pi }}={\\frac {2{\\sqrt {2}}}{9801}}\\displaystyle \\sum _{n=0}^{\\infty }{\\frac {(4n)!}{(n!)^{4}}}\\times {\\frac {1103+26390n}{(4\\times 99)^{4n}}}$$\n",
    "    Implémenter une fonction *MethodeSerieRamanujan(N)*, basée sur cette\n",
    "    équation, renvoyant une approximation du nombre $\\pi$."
   ]
  },
  {
   "cell_type": "code",
   "execution_count": 9,
   "metadata": {},
   "outputs": [
    {
     "data": {
      "text/plain": [
       "3.141592653589793"
      ]
     },
     "execution_count": 9,
     "metadata": {},
     "output_type": "execute_result"
    }
   ],
   "source": [
    "def fonctiondroite(n):\n",
    "    return (1103+(26390*n))/math.pow((4*99),4*n)\n",
    "\n",
    "def fonctiongauche(n):\n",
    "    return math.factorial(4*n)/math.pow(math.factorial(n),4)\n",
    "    \n",
    "def MethodeSerieRamanujan(N):\n",
    "    res = 0\n",
    "    for i in range(0,N):\n",
    "        res = res + (fonctiondroite(i) * fonctiongauche(i))\n",
    "    res =  1/(((2*math.sqrt(2))/9801) * res)\n",
    "    return res\n",
    "MethodeSerieRamanujan(3)"
   ]
  },
  {
   "cell_type": "markdown",
   "metadata": {},
   "source": [
    "8.  Déterminer combien cette méthode fournit de décimales\n",
    "    supplémentaires à $\\pi$ à chaque nouveau terme de la série."
   ]
  },
  {
   "cell_type": "code",
   "execution_count": 10,
   "metadata": {},
   "outputs": [
    {
     "name": "stdout",
     "output_type": "stream",
     "text": [
      "approx_pi: 1 tabRam: 1\n",
      "approx_pi: 4 tabRam: 4\n",
      "approx_pi: 1 tabRam: 1\n",
      "approx_pi: 5 tabRam: 5\n",
      "approx_pi: 9 tabRam: 9\n",
      "approx_pi: 2 tabRam: 2\n",
      "6\n",
      "3.1415927300133055\n",
      "3.1415926535897932384626433832795028841971693993751058209749445923078164062862089986280348253421170679\n",
      "\n",
      "\n",
      "approx_pi: 1 tabRam: 1\n",
      "approx_pi: 4 tabRam: 4\n",
      "approx_pi: 1 tabRam: 1\n",
      "approx_pi: 5 tabRam: 5\n",
      "approx_pi: 9 tabRam: 9\n",
      "approx_pi: 2 tabRam: 2\n",
      "approx_pi: 6 tabRam: 6\n",
      "approx_pi: 5 tabRam: 5\n",
      "approx_pi: 3 tabRam: 3\n",
      "approx_pi: 5 tabRam: 5\n",
      "approx_pi: 8 tabRam: 8\n",
      "approx_pi: 9 tabRam: 9\n",
      "approx_pi: 7 tabRam: 7\n",
      "approx_pi: 9 tabRam: 9\n",
      "approx_pi: 3 tabRam: 3\n",
      "15\n",
      "3.1415926535897936\n",
      "3.1415926535897932384626433832795028841971693993751058209749445923078164062862089986280348253421170679\n",
      "\n",
      "\n",
      "approx_pi: 1 tabRam: 1\n",
      "approx_pi: 4 tabRam: 4\n",
      "approx_pi: 1 tabRam: 1\n",
      "approx_pi: 5 tabRam: 5\n",
      "approx_pi: 9 tabRam: 9\n",
      "approx_pi: 2 tabRam: 2\n",
      "approx_pi: 6 tabRam: 6\n",
      "approx_pi: 5 tabRam: 5\n",
      "approx_pi: 3 tabRam: 3\n",
      "approx_pi: 5 tabRam: 5\n",
      "approx_pi: 8 tabRam: 8\n",
      "approx_pi: 9 tabRam: 9\n",
      "approx_pi: 7 tabRam: 7\n",
      "approx_pi: 9 tabRam: 9\n",
      "approx_pi: 3 tabRam: 3\n",
      "Float out of range !\n",
      "15\n",
      "3.141592653589793\n",
      "3.1415926535897932384626433832795028841971693993751058209749445923078164062862089986280348253421170679\n",
      "\n",
      "\n"
     ]
    }
   ],
   "source": [
    "def verifyRamanujan(n):\n",
    "    approx_pi = \"3.1415926535897932384626433832795028841971693993751058209749445923078164062862089986280348253421170679\"\n",
    "    tabRam = str(MethodeSerieRamanujan(n))\n",
    "    i=2\n",
    "    try:\n",
    "        while list(approx_pi)[i] == list(tabRam)[i]:\n",
    "            print(\"approx_pi: \"+list(approx_pi)[i]+\" tabRam: \"+list(tabRam)[i])\n",
    "            i = i+1\n",
    "    except  IndexError:\n",
    "        print(\"Float out of range !\")\n",
    "    print(i-2)\n",
    "    print(tabRam+\"\\n\"+approx_pi+\"\\n\\n\")\n",
    "    \n",
    "verifyRamanujan(1)\n",
    "verifyRamanujan(2)\n",
    "verifyRamanujan(3)"
   ]
  },
  {
   "cell_type": "markdown",
   "metadata": {},
   "source": [
    "9.  Discuter et comparer l'efficacité des trois méthodes présentées\n",
    "    ci-dessus. Quels peuvent être les avantages et les inconvénients de\n",
    "    chacune ?"
   ]
  },
  {
   "cell_type": "markdown",
   "metadata": {},
   "source": [
    "   * Les Méthodes utilisant les *séries paire* et les *séries impaire* ont peu d'avantage, en effet elles sont autant complexe et elles demande beaucoup plus de moyen que la *méthode de Ramanujan* . Pour trouver une approximation à $ 10^{-4}$ il nous a fallu $ 10 307 $ itérations avec la méthode  des *séries Pair* et $ 3436 $ itérations avec la méthode des *séries Impair*. Alors que avec la *méhode de Ramanujan* il nous a fallu seulement $1$ itérations pour trouver $\\pi$ avec une approximation à $ 10^{-6}$ \n",
    "   \n",
    "\n",
    "   * Un des défauts que peut présenter la *méthode de Ramanujan* est sa complexité mathématique. C'est donc une méthode difficile à manipuler et comprendre mais aussi a implémenter en informatique. En effet au bout de la $ 3^{ème}$ itération le nombre de décimals dépasse 15 ce qui pose problème à cause de la gestion des *floats* par python et les compilateurs en général."
   ]
  },
  {
   "cell_type": "markdown",
   "metadata": {},
   "source": []
  },
  {
   "cell_type": "markdown",
   "metadata": {},
   "source": [
    "Méthode de Monte-Carlo\n",
    "======================\n",
    "\n",
    "\\\"Le terme \\\"méthode de Monte-Carlo\\\", ou \\\"méthode Monte-Carlo\\\",\n",
    "désigne une famille de méthodes algorithmiques visant à calculer une\n",
    "valeur numérique approchée en utilisant des procédés aléatoires,\n",
    "c'est-à-dire des techniques probabilistes. Le nom de ces méthodes, qui\n",
    "fait allusion aux jeux de hasard pratiqués à Monte-Carlo, a été inventé\n",
    "en 1947 par Nicholas Metropolis.\\\"\n",
    "\n",
    " \n",
    "\n",
    "On se propose d'utiliser cette méthode pour obtenir une approximation du\n",
    "nombre $\\pi$. Considérons $\\mathcal{D}$ la portion de disque définie par :\n",
    "\n",
    "$$\\mathcal{D} = \\{ (x,y) \\in \\mathbb{R}^{+} ~|~ x^2 + y^2 \\leqslant 1 \\}$$\n",
    "\n",
    "Le principe de la méthode est de choisir aléatoirement un grand nombre\n",
    "de points dans le carré $[0,1]\\times [0,1]$ et d'observer combien de ces\n",
    "points se situent dans le quart de disque $\\mathcal{D}$. On notera $n$\n",
    "le nombre de points tirés, et $k_n$ le nombre de ces points qui se\n",
    "situent dans $\\mathcal{D}$."
   ]
  },
  {
   "cell_type": "markdown",
   "metadata": {},
   "source": [
    "1.  Déterminer l'aire de la portion de disque $\\mathcal{D}$. En se\n",
    "    basant sur le calcul précédent, quel à votre avis la valeur de\n",
    "    $\\lim\\limits_{n \\to \\infty} \\frac{k_n}{n}$ ?"
   ]
  },
  {
   "cell_type": "markdown",
   "metadata": {},
   "source": []
  },
  {
   "cell_type": "markdown",
   "metadata": {},
   "source": [
    "2.  Implémenter une fonction *Tirage(n)* permettant de tirer $n$ points\n",
    "    dans $[0,1]\\times [0,1]$ et de calculer $\\frac{k_n}{n}$."
   ]
  },
  {
   "cell_type": "code",
   "execution_count": 11,
   "metadata": {},
   "outputs": [
    {
     "data": {
      "text/plain": [
       "0.766"
      ]
     },
     "execution_count": 11,
     "metadata": {},
     "output_type": "execute_result"
    }
   ],
   "source": [
    "def Tirage(n):\n",
    "    pointPlotx = []\n",
    "    pointPloty = []\n",
    "    kn=0\n",
    "    for i in range(0,n):\n",
    "        pointPlotx.append(random.uniform(0,1))\n",
    "        pointPloty.append(random.uniform(0,1))\n",
    "        if math.pow(pointPlotx[i],2)+math.pow(pointPloty[i],2) <= 1:\n",
    "            kn=kn+1\n",
    "    res = kn/n\n",
    "    return res\n",
    "Tirage(2000)"
   ]
  },
  {
   "cell_type": "markdown",
   "metadata": {},
   "source": [
    "3.  Représenter le carré $[0,1]\\times [0,1]$, le disque $\\mathcal{D}$\n",
    "    (ou seulement le cercle associé), et le tirage des $n$ points, en\n",
    "    colorant de manière différente les points à l'intérieur et à\n",
    "    l'extérieur du disque $\\mathcal{D}$."
   ]
  },
  {
   "cell_type": "code",
   "execution_count": 12,
   "metadata": {},
   "outputs": [
    {
     "data": {
      "image/png": "[encoded data removed]",
      "text/plain": [
       "<Figure size 432x288 with 1 Axes>"
      ]
     },
     "metadata": {
      "needs_background": "light"
     },
     "output_type": "display_data"
    }
   ],
   "source": [
    "def Tirage2(n):\n",
    "    pointPlotx = []\n",
    "    pointPloty = []\n",
    "    for i in range(0,n):\n",
    "        pointPlotx.append(random.uniform(0,1))\n",
    "        pointPloty.append(random.uniform(0,1))\n",
    "    return [pointPlotx,pointPloty]\n",
    "\n",
    "def buildPlotMonteCarlo(n):\n",
    "    plt.axes()\n",
    "    plt.gca().set_xlim([0,1])\n",
    "    plt.gca().set_ylim([0,1])\n",
    "    circle = plt.Circle((0,0),1,fill = False)\n",
    "    rect = plt.Rectangle((0,0),1,1,fill = False)\n",
    "    plt.gca().add_patch(circle)\n",
    "    plt.gca().add_patch(rect)\n",
    "    nuagePoint = Tirage2(n)\n",
    "    colorTab = []\n",
    "    for i in range(0,n):\n",
    "        if math.pow(nuagePoint[0][i],2)+math.pow(nuagePoint[1][i],2) <= 1:\n",
    "            colorTab.append(\"r\")\n",
    "        else:\n",
    "            colorTab.append(\"b\")\n",
    "    plt.scatter(nuagePoint[0],nuagePoint[1],c = colorTab)\n",
    "    plt.show()\n",
    "buildPlotMonteCarlo(300)"
   ]
  },
  {
   "cell_type": "markdown",
   "metadata": {},
   "source": [
    "4.  Implémenter une fonction *MonteCarlo(n)* renvoyant une approximation\n",
    "    de $\\pi$."
   ]
  },
  {
   "cell_type": "code",
   "execution_count": 13,
   "metadata": {},
   "outputs": [
    {
     "data": {
      "text/plain": [
       "3.1226666666666665"
      ]
     },
     "execution_count": 13,
     "metadata": {},
     "output_type": "execute_result"
    }
   ],
   "source": [
    "def MonteCarlo(n):\n",
    "    return (Tirage(n)*4)\n",
    "MonteCarlo(3000)"
   ]
  },
  {
   "cell_type": "markdown",
   "metadata": {},
   "source": [
    "5.  Représenter sous forme de nuage de points la quantité\n",
    "    $|MonteCarlo(n) - \\pi|$ en fonction de $n$. La méthode\n",
    "    converge-t-elle ? Dans quel sens ?"
   ]
  },
  {
   "cell_type": "code",
   "execution_count": 16,
   "metadata": {},
   "outputs": [
    {
     "data": {
      "image/png": "[encoded data removed]",
      "text/plain": [
       "<Figure size 720x576 with 1 Axes>"
      ]
     },
     "metadata": {
      "needs_background": "light"
     },
     "output_type": "display_data"
    }
   ],
   "source": [
    "def resQ(n,pointPlotx,pointPloty):\n",
    "    kn = 0\n",
    "    for i in range(0,n):\n",
    "        if math.pow(pointPlotx[i],2)+math.pow(pointPloty[i],2) <= 1:\n",
    "            kn=kn+1\n",
    "    res = (kn/n)*4\n",
    "    return res\n",
    "\n",
    "def MonteCarloApprox(n):\n",
    "    mytables = Tirage2(n)\n",
    "    myTablesValueQuotien = []\n",
    "    for j in range(1,n):\n",
    "        myTablesValueQuotien.append(resQ(j,mytables[0],mytables[1]))\n",
    "    pointPlotMC = []\n",
    "    fig = plt.figure(figsize=(10, 8))\n",
    "    axe = fig.add_subplot(111)\n",
    "    for i in range(1,n):\n",
    "        pointPlotMC.append(abs(myTablesValueQuotien[i-1]-math.pi))\n",
    "    axe.scatter(range(1,n),pointPlotMC,c=\"red\",s=5)\n",
    "    plt.show()\n",
    "MonteCarloApprox(3000)"
   ]
  },
  {
   "cell_type": "markdown",
   "metadata": {},
   "source": []
  },
  {
   "cell_type": "markdown",
   "metadata": {},
   "source": [
    "6.  Combien faut-il tirer de points $n$ (en moyenne) pour obtenir une\n",
    "    approximation de $\\pi$ avec une précision de l'ordre de $10^{-4}$ ?"
   ]
  },
  {
   "cell_type": "code",
   "execution_count": 42,
   "metadata": {},
   "outputs": [
    {
     "name": "stdout",
     "output_type": "stream",
     "text": [
      "1206.8\n"
     ]
    }
   ],
   "source": [
    "def avgApproxPi():\n",
    "    res=0\n",
    "    counter=0\n",
    "    while math.trunc(res*10**4)*10**-4 != math.trunc(math.pi*10**4)*10**-4:\n",
    "        counter = counter+1\n",
    "        res=MonteCarlo(counter)\n",
    "    return counter\n",
    "\n",
    "def avgCounter(nb):\n",
    "    #(nb de fois où on cherche l'approx de pi)\n",
    "    total=0\n",
    "    for i in range(0,nb):\n",
    "        counter=avgApproxPi()\n",
    "        total=total+counter\n",
    "    print(total/nb)\n",
    "avgCounter(10)"
   ]
  },
  {
   "cell_type": "markdown",
   "metadata": {},
   "source": []
  },
  {
   "cell_type": "markdown",
   "metadata": {},
   "source": [
    "7.  Quels sont les inconvénients et les avantages de cette méthode par\n",
    "    rapport aux méthodes des séries ?"
   ]
  },
  {
   "cell_type": "markdown",
   "metadata": {},
   "source": [
    "* Le gros inconveniant de cette méthode est qu'on ne peut pas être sur qu'un tirage nous donnera $\\pi$ à $10^{-4}$.\n",
    "En effet, et comme vu sur le graphique réalisé plus haut, le resultat de cette méthode se rapproche de $\\pi$ sans y être forcément égal. Ainsi on ne peut être sur de trouver $\\pi$ au bout de n itérations, contrairement aux méthodes des séries.\n",
    "Elle est cependant mathématiquement parlant beaucoup plus simple que la méthode des séries, se servant de calculs basiques, basé sur des points aléatoires."
   ]
  },
  {
   "cell_type": "markdown",
   "metadata": {},
   "source": []
  },
  {
   "cell_type": "markdown",
   "metadata": {},
   "source": [
    "Ouverture\n",
    "=========\n",
    "\n",
    "-   Citer au moins une autre méthode (basée sur un principe mathématique\n",
    "    différent) permettant d'approximer le nombre $\\pi$ et expliquer\n",
    "    brièvement son principe."
   ]
  },
  {
   "cell_type": "markdown",
   "metadata": {},
   "source": []
  },
  {
   "cell_type": "markdown",
   "metadata": {},
   "source": [
    "-   (Bonus -- Pour les plus passionnés) Imaginer une nouvelle méthode\n",
    "    permettant d'obtenir une approximation du nombre $\\pi$."
   ]
  },
  {
   "cell_type": "markdown",
   "metadata": {},
   "source": []
  },
  {
   "cell_type": "markdown",
   "metadata": {},
   "source": [
    "Rendu du projet\n",
    "===============\n",
    "\n",
    "Le travail sur ce projet est à faire par binôme (2 personnes maximum).\n",
    "Le travail sera restitué sous la forme d'un Notebook.\n",
    "Le projet est à rendre sur Moodle.\n",
    "\n",
    "\n",
    "\n",
    "Le Notebook doit répondre à toutes les questions\n",
    "posées dans l'énoncé, implémenter les algorithmes demandés,\n",
    "et si cela s'avère nécessaire expliquer comment ces algorithmes\n",
    "ont été implémentés en pratique.\n",
    "Le Notebook se terminera par une discussion des résultats\n",
    "et une conclusion.\n",
    "La qualité, propreté et clarté de la rédaction seront pris en compte."
   ]
  }
 ],
 "metadata": {
  "kernelspec": {
   "display_name": "Python 3",
   "language": "python",
   "name": "python3"
  },
  "language_info": {
   "codemirror_mode": {
    "name": "ipython",
    "version": 3
   },
   "file_extension": ".py",
   "mimetype": "text/x-python",
   "name": "python",
   "nbconvert_exporter": "python",
   "pygments_lexer": "ipython3",
   "version": "3.7.4"
  }
 },
 "nbformat": 4,
 "nbformat_minor": 2
}
